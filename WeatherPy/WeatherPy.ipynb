{
 "cells": [
  {
   "cell_type": "code",
   "execution_count": null,
   "metadata": {},
   "outputs": [],
   "source": [
    "# This uses the citipy 0.0.5 library found at\n",
    "# https://pypi.org/project/citipy/\n",
    "# as well as the OpenWeatherMap API found at\n",
    "# https://openweathermap.org/api"
   ]
  },
  {
   "cell_type": "code",
   "execution_count": null,
   "metadata": {},
   "outputs": [],
   "source": [
    "# The first requirement is to create a series of scatter plots\n",
    "# to showcase the following relationships:\n",
    "\n",
    "# Temperature (F) vs. Latitude\n",
    "# Humidity (%) vs. Latitude\n",
    "# Cloudiness (%) vs. Latitude\n",
    "# Wind Speed (mph) vs. Latitude\n",
    "\n",
    "# After each plot, add a sentence or two explaining\n",
    "# what the code is analyzing."
   ]
  },
  {
   "cell_type": "code",
   "execution_count": 1,
   "metadata": {},
   "outputs": [
    {
     "ename": "SyntaxError",
     "evalue": "invalid syntax (<ipython-input-1-a55b7db95035>, line 4)",
     "output_type": "error",
     "traceback": [
      "\u001b[0;36m  File \u001b[0;32m\"<ipython-input-1-a55b7db95035>\"\u001b[0;36m, line \u001b[0;32m4\u001b[0m\n\u001b[0;31m    Northern Hemisphere - Temperature (F) vs. Latitude\u001b[0m\n\u001b[0m                      ^\u001b[0m\n\u001b[0;31mSyntaxError\u001b[0m\u001b[0;31m:\u001b[0m invalid syntax\n"
     ]
    }
   ],
   "source": [
    "# The second requirement is to run linear regression on each relationship.\n",
    "# This time, separate the plots into\n",
    "# Northern Hemisphere (greater than or equal to 0 degrees latitude) and\n",
    "# Southern Hemisphere (less than 0 degrees latitude):\n",
    "\n",
    "# Northern Hemisphere - Temperature (F) vs. Latitude\n",
    "# Southern Hemisphere - Temperature (F) vs. Latitude\n",
    "# Northern Hemisphere - Humidity (%) vs. Latitude\n",
    "# Southern Hemisphere - Humidity (%) vs. Latitude\n",
    "# Northern Hemisphere - Cloudiness (%) vs. Latitude\n",
    "# Southern Hemisphere - Cloudiness (%) vs. Latitude\n",
    "# Northern Hemisphere - Wind Speed (mph) vs. Latitude\n",
    "# Southern Hemisphere - Wind Speed (mph) vs. Latitude\n",
    "\n",
    "# After each pair of plots, take the time to explain \n",
    "# what the linear regression is modeling.\n",
    "# For example, describe any relationships you notice and \n",
    "# any other analysis you may have."
   ]
  },
  {
   "cell_type": "code",
   "execution_count": null,
   "metadata": {},
   "outputs": [],
   "source": [
    "# Your final notebook must:\n",
    "# a-Randomly select at least 500 unique (non-repeat) cities\n",
    "#  based on latitude and longitude.\n",
    "# b-Perform a weather check on each of the cities\n",
    "#  using a series of successive API calls.\n",
    "# c-Include a print log of each city as it's being processed\n",
    "#  with the city number and city name.\n",
    "# d-Save a CSV of all retrieved data and\n",
    "#  a PNG image for each scatter plot.\n",
    "\n",
    "# my questions:\n",
    "# How many cities am I choosing 500 from? "
   ]
  }
 ],
 "metadata": {
  "kernelspec": {
   "display_name": "Python 3",
   "language": "python",
   "name": "python3"
  },
  "language_info": {
   "codemirror_mode": {
    "name": "ipython",
    "version": 3
   },
   "file_extension": ".py",
   "mimetype": "text/x-python",
   "name": "python",
   "nbconvert_exporter": "python",
   "pygments_lexer": "ipython3",
   "version": "3.6.10"
  }
 },
 "nbformat": 4,
 "nbformat_minor": 4
}
